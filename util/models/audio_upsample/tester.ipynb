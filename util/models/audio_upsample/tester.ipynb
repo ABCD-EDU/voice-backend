{
 "cells": [
  {
   "cell_type": "code",
   "execution_count": 8,
   "metadata": {},
   "outputs": [
    {
     "ename": "ImportError",
     "evalue": "cannot import name 'NuWave' from 'model' (unknown location)",
     "output_type": "error",
     "traceback": [
      "\u001b[1;31m---------------------------------------------------------------------------\u001b[0m",
      "\u001b[1;31mImportError\u001b[0m                               Traceback (most recent call last)",
      "Cell \u001b[1;32mIn[8], line 1\u001b[0m\n\u001b[1;32m----> 1\u001b[0m \u001b[39mimport\u001b[39;00m \u001b[39mmain\u001b[39;00m\n\u001b[0;32m      2\u001b[0m \u001b[39mimport\u001b[39;00m \u001b[39mimportlib\u001b[39;00m\n\u001b[0;32m      3\u001b[0m importlib\u001b[39m.\u001b[39mreload(main)\n",
      "File \u001b[1;32mc:\\Users\\chris\\repos\\thesis\\speechsep-upsample-inference\\nuwave\\main.py:1\u001b[0m\n\u001b[1;32m----> 1\u001b[0m \u001b[39mfrom\u001b[39;00m \u001b[39mlightning_model\u001b[39;00m \u001b[39mimport\u001b[39;00m NuWave\n\u001b[0;32m      2\u001b[0m \u001b[39mfrom\u001b[39;00m \u001b[39momegaconf\u001b[39;00m \u001b[39mimport\u001b[39;00m OmegaConf \u001b[39mas\u001b[39;00m OC\n\u001b[0;32m      3\u001b[0m \u001b[39mimport\u001b[39;00m \u001b[39mos\u001b[39;00m\n",
      "File \u001b[1;32mc:\\Users\\chris\\repos\\thesis\\speechsep-upsample-inference\\nuwave\\lightning_model.py:12\u001b[0m\n\u001b[0;32m      9\u001b[0m \u001b[39mimport\u001b[39;00m \u001b[39mpytorch_lightning\u001b[39;00m \u001b[39mas\u001b[39;00m \u001b[39mpl\u001b[39;00m\n\u001b[0;32m     10\u001b[0m \u001b[39mfrom\u001b[39;00m \u001b[39mscipy\u001b[39;00m\u001b[39m.\u001b[39;00m\u001b[39mio\u001b[39;00m\u001b[39m.\u001b[39;00m\u001b[39mwavfile\u001b[39;00m \u001b[39mimport\u001b[39;00m write \u001b[39mas\u001b[39;00m swrite\n\u001b[1;32m---> 12\u001b[0m \u001b[39mfrom\u001b[39;00m \u001b[39mmodel\u001b[39;00m \u001b[39mimport\u001b[39;00m NuWave \u001b[39mas\u001b[39;00m model\n\u001b[0;32m     13\u001b[0m \u001b[39mimport\u001b[39;00m \u001b[39mdataloader\u001b[39;00m\n\u001b[0;32m     14\u001b[0m \u001b[39mfrom\u001b[39;00m \u001b[39mutils\u001b[39;00m\u001b[39m.\u001b[39;00m\u001b[39mtblogger\u001b[39;00m \u001b[39mimport\u001b[39;00m TensorBoardLoggerExpanded\n",
      "\u001b[1;31mImportError\u001b[0m: cannot import name 'NuWave' from 'model' (unknown location)"
     ]
    }
   ],
   "source": [
    "import main\n",
    "import importlib\n",
    "importlib.reload(main)\n",
    "from main import run_sampling\n",
    "run_sampling(input_path=\"sepformer_out.wav\", output_path=\"latest_test_x3\")\n",
    "# python sampling.py -c \"latest_checkpoint.ckpt\" -f \"p227_001.wav\"\n"
   ]
  }
 ],
 "metadata": {
  "kernelspec": {
   "display_name": "mining",
   "language": "python",
   "name": "python3"
  },
  "language_info": {
   "codemirror_mode": {
    "name": "ipython",
    "version": 3
   },
   "file_extension": ".py",
   "mimetype": "text/x-python",
   "name": "python",
   "nbconvert_exporter": "python",
   "pygments_lexer": "ipython3",
   "version": "3.10.8"
  },
  "orig_nbformat": 4,
  "vscode": {
   "interpreter": {
    "hash": "ad428c292302a7d37eda7481ec7d8fe280ba8d967a96f792ae240aa82dccd79d"
   }
  }
 },
 "nbformat": 4,
 "nbformat_minor": 2
}
